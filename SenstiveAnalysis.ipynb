{
 "cells": [
  {
   "cell_type": "code",
   "execution_count": 17,
   "id": "123d98c4",
   "metadata": {},
   "outputs": [
    {
     "name": "stdout",
     "output_type": "stream",
     "text": [
      "126475.2835\n",
      "2069.7457384807826\n",
      "2212.1653538061573\n",
      "2383.9195963870175\n",
      "2595.1122413974654\n",
      "2961.4043076529347\n",
      "3339.647288765129\n",
      "3858.240170104483\n",
      "4613.094045220307\n",
      "5813.289439578505\n",
      "8017.832444278293\n",
      "13394.379772287122\n"
     ]
    }
   ],
   "source": [
    "import numpy as np\n",
    "from scipy.special import erf, fresnel\n",
    "import matplotlib.pyplot as plt\n",
    "#Sensitivity analysis\n",
    "\n",
    "high_growth_mu = 0.1785\n",
    "g_stable = [-0.0316, -0.0216, -0.0116,  -0.0016, 0.0116, 0.0216, 0.0316, 0.0416, 0.0516, 0.0616, 0.0716]\n",
    "WACC_mu = 0.0855\n",
    "EBIT2024 = 39531\n",
    "Dep_2025 = 16218\n",
    "CapEx_2025 = -60851\n",
    "NWCT2025 = -2819\n",
    "tax = 0.12\n",
    "#CF = [22081,34453,41757,78499]\n",
    "CF2021 = 66303\n",
    "CF2022 = 79580\n",
    "CF2023 = 92858\n",
    "CF2024 = 106135\n",
    "k = 1\n",
    "\n",
    "g_high = high_growth_mu + 1\n",
    "WACC = WACC_mu\n",
    "\n",
    "\n",
    "\n",
    "CF2025 = EBIT2024*g_high + Dep_2025 - CapEx_2025 - NWCT2025\n",
    "print(CF2025)\n",
    "for i in g_stable:\n",
    "    Firmvalue1 = (CF2021/(k+WACC) + CF2022/((k+WACC)**2) + CF2023/((k+WACC)**3) + CF2024/((k+WACC)**4) + CF2025/((WACC- i)*(k+WACC)**4))/510 \n",
    "    print(Firmvalue1)\n",
    "\n",
    "\n"
   ]
  },
  {
   "cell_type": "code",
   "execution_count": 18,
   "id": "4e948dd9",
   "metadata": {},
   "outputs": [
    {
     "name": "stdout",
     "output_type": "stream",
     "text": [
      "2045.9081991477285\n",
      "2186.1020871777673\n",
      "2355.1721622376804\n",
      "2563.0642981609485\n",
      "2923.6319686015054\n",
      "3295.963785542897\n",
      "3806.452120829889\n",
      "4549.509173787491\n",
      "5730.947968902971\n",
      "7901.038475412159\n",
      "13193.561365387797\n"
     ]
    }
   ],
   "source": [
    "high_growth_mu = 0.1385\n",
    "g_stable = [-0.0316, -0.0216, -0.0116,  -0.0016, 0.0116, 0.0216, 0.0316, 0.0416, 0.0516, 0.0616, 0.0716]\n",
    "WACC_mu = 0.0855\n",
    "EBIT2024 = 39531\n",
    "Dep_2025 = 16218\n",
    "CapEx_2025 = -60851\n",
    "NWCT2025 = -2819\n",
    "tax = 0.12\n",
    "#CF = [22081,34453,41757,78499]\n",
    "CF2021 = 66303\n",
    "CF2022 = 79580\n",
    "CF2023 = 92858\n",
    "CF2024 = 106135\n",
    "k = 1\n",
    "\n",
    "g_high = high_growth_mu + 1\n",
    "WACC = WACC_mu\n",
    "\n",
    "\n",
    "\n",
    "CF2025 = EBIT2024*g_high + Dep_2025 - CapEx_2025 - NWCT2025\n",
    "\n",
    "for i in g_stable:\n",
    "    Firmvalue1 = (CF2021/(k+WACC) + CF2022/((k+WACC)**2) + CF2023/((k+WACC)**3) + CF2024/((k+WACC)**4) + CF2025/((WACC- i)*(k+WACC)**4))/510 \n",
    "    print(Firmvalue1)\n"
   ]
  },
  {
   "cell_type": "code",
   "execution_count": 20,
   "id": "e77495e7",
   "metadata": {},
   "outputs": [
    {
     "name": "stdout",
     "output_type": "stream",
     "text": [
      "2055.44321488095\n",
      "2196.5273938291234\n",
      "2366.671135897415\n",
      "2575.883475455555\n",
      "2938.740904222077\n",
      "3313.43718683179\n",
      "3827.1673405397264\n",
      "4574.943122360617\n",
      "5763.884557173184\n",
      "7947.756062958612\n",
      "13273.888728147525\n"
     ]
    }
   ],
   "source": [
    "high_growth_mu = 0.1485\n",
    "g_stable = [-0.0316, -0.0216, -0.0116,  -0.0016, 0.0116, 0.0216, 0.0316, 0.0416, 0.0516, 0.0616, 0.0716]\n",
    "WACC_mu = 0.0855\n",
    "EBIT2024 = 39531\n",
    "Dep_2025 = 16218\n",
    "CapEx_2025 = -60851\n",
    "NWCT2025 = -2819\n",
    "tax = 0.12\n",
    "#CF = [22081,34453,41757,78499]\n",
    "CF2021 = 66303\n",
    "CF2022 = 79580\n",
    "CF2023 = 92858\n",
    "CF2024 = 106135\n",
    "k = 1\n",
    "\n",
    "g_high = high_growth_mu + 1\n",
    "WACC = WACC_mu\n",
    "\n",
    "\n",
    "\n",
    "CF2025 = EBIT2024*g_high + Dep_2025 - CapEx_2025 - NWCT2025\n",
    "\n",
    "for i in g_stable:\n",
    "    Firmvalue1 = (CF2021/(k+WACC) + CF2022/((k+WACC)**2) + CF2023/((k+WACC)**3) + CF2024/((k+WACC)**4) + CF2025/((WACC- i)*(k+WACC)**4))/510 \n",
    "    print(Firmvalue1)\n"
   ]
  },
  {
   "cell_type": "code",
   "execution_count": 21,
   "id": "c692babb",
   "metadata": {},
   "outputs": [
    {
     "name": "stdout",
     "output_type": "stream",
     "text": [
      "2055.44321488095\n",
      "2196.5273938291234\n",
      "2366.671135897415\n",
      "2575.883475455555\n",
      "2938.740904222077\n",
      "3313.43718683179\n",
      "3827.1673405397264\n",
      "4574.943122360617\n",
      "5763.884557173184\n",
      "7947.756062958612\n",
      "13273.888728147525\n"
     ]
    }
   ],
   "source": [
    "high_growth_mu = 0.1485\n",
    "g_stable = [-0.0316, -0.0216, -0.0116,  -0.0016, 0.0116, 0.0216, 0.0316, 0.0416, 0.0516, 0.0616, 0.0716]\n",
    "WACC_mu = 0.0855\n",
    "EBIT2024 = 39531\n",
    "Dep_2025 = 16218\n",
    "CapEx_2025 = -60851\n",
    "NWCT2025 = -2819\n",
    "tax = 0.12\n",
    "#CF = [22081,34453,41757,78499]\n",
    "CF2021 = 66303\n",
    "CF2022 = 79580\n",
    "CF2023 = 92858\n",
    "CF2024 = 106135\n",
    "k = 1\n",
    "\n",
    "g_high = high_growth_mu + 1\n",
    "WACC = WACC_mu\n",
    "\n",
    "\n",
    "\n",
    "CF2025 = EBIT2024*g_high + Dep_2025 - CapEx_2025 - NWCT2025\n",
    "\n",
    "for i in g_stable:\n",
    "    Firmvalue1 = (CF2021/(k+WACC) + CF2022/((k+WACC)**2) + CF2023/((k+WACC)**3) + CF2024/((k+WACC)**4) + CF2025/((WACC- i)*(k+WACC)**4))/510 \n",
    "    print(Firmvalue1)\n"
   ]
  },
  {
   "cell_type": "code",
   "execution_count": 22,
   "id": "c99bd189",
   "metadata": {},
   "outputs": [
    {
     "name": "stdout",
     "output_type": "stream",
     "text": [
      "2060.210722747561\n",
      "2201.7400471548017\n",
      "2372.420622727282\n",
      "2582.2930641028584\n",
      "2946.2953720323626\n",
      "3322.173887476236\n",
      "3837.524950394645\n",
      "4587.660096647181\n",
      "5780.35285130829\n",
      "7971.114856731839\n",
      "13314.05240952739\n"
     ]
    }
   ],
   "source": [
    "high_growth_mu = 0.1585\n",
    "g_stable = [-0.0316, -0.0216, -0.0116,  -0.0016, 0.0116, 0.0216, 0.0316, 0.0416, 0.0516, 0.0616, 0.0716]\n",
    "WACC_mu = 0.0855\n",
    "EBIT2024 = 39531\n",
    "Dep_2025 = 16218\n",
    "CapEx_2025 = -60851\n",
    "NWCT2025 = -2819\n",
    "tax = 0.12\n",
    "#CF = [22081,34453,41757,78499]\n",
    "CF2021 = 66303\n",
    "CF2022 = 79580\n",
    "CF2023 = 92858\n",
    "CF2024 = 106135\n",
    "k = 1\n",
    "\n",
    "g_high = high_growth_mu + 1\n",
    "WACC = WACC_mu\n",
    "\n",
    "\n",
    "\n",
    "CF2025 = EBIT2024*g_high + Dep_2025 - CapEx_2025 - NWCT2025\n",
    "\n",
    "for i in g_stable:\n",
    "    Firmvalue1 = (CF2021/(k+WACC) + CF2022/((k+WACC)**2) + CF2023/((k+WACC)**3) + CF2024/((k+WACC)**4) + CF2025/((WACC- i)*(k+WACC)**4))/510 \n",
    "    print(Firmvalue1)\n"
   ]
  },
  {
   "cell_type": "code",
   "execution_count": 23,
   "id": "57536195",
   "metadata": {},
   "outputs": [
    {
     "name": "stdout",
     "output_type": "stream",
     "text": [
      "2064.978230614172\n",
      "2206.9527004804795\n",
      "2378.1701095571498\n",
      "2588.702652750162\n",
      "2953.8498398426486\n",
      "3330.9105881206824\n",
      "3847.882560249564\n",
      "4600.377070933744\n",
      "5796.821145443399\n",
      "7994.473650505066\n",
      "13354.216090907257\n"
     ]
    }
   ],
   "source": [
    "high_growth_mu = 0.1685\n",
    "g_stable = [-0.0316, -0.0216, -0.0116,  -0.0016, 0.0116, 0.0216, 0.0316, 0.0416, 0.0516, 0.0616, 0.0716]\n",
    "WACC_mu = 0.0855\n",
    "EBIT2024 = 39531\n",
    "Dep_2025 = 16218\n",
    "CapEx_2025 = -60851\n",
    "NWCT2025 = -2819\n",
    "tax = 0.12\n",
    "#CF = [22081,34453,41757,78499]\n",
    "CF2021 = 66303\n",
    "CF2022 = 79580\n",
    "CF2023 = 92858\n",
    "CF2024 = 106135\n",
    "k = 1\n",
    "\n",
    "g_high = high_growth_mu + 1\n",
    "WACC = WACC_mu\n",
    "\n",
    "\n",
    "\n",
    "CF2025 = EBIT2024*g_high + Dep_2025 - CapEx_2025 - NWCT2025\n",
    "\n",
    "for i in g_stable:\n",
    "    Firmvalue1 = (CF2021/(k+WACC) + CF2022/((k+WACC)**2) + CF2023/((k+WACC)**3) + CF2024/((k+WACC)**4) + CF2025/((WACC- i)*(k+WACC)**4))/510 \n",
    "    print(Firmvalue1)\n"
   ]
  },
  {
   "cell_type": "code",
   "execution_count": 24,
   "id": "13b4f569",
   "metadata": {},
   "outputs": [
    {
     "name": "stdout",
     "output_type": "stream",
     "text": [
      "2074.513246347393\n",
      "2217.3780071318356\n",
      "2389.6690832168842\n",
      "2601.5218300447686\n",
      "2968.95877546322\n",
      "3348.3839894095745\n",
      "3868.597779959401\n",
      "4625.811019506868\n",
      "5829.757733713611\n",
      "8041.191238051519\n",
      "13434.543453666984\n"
     ]
    }
   ],
   "source": [
    "high_growth_mu = 0.1885\n",
    "g_stable = [-0.0316, -0.0216, -0.0116,  -0.0016, 0.0116, 0.0216, 0.0316, 0.0416, 0.0516, 0.0616, 0.0716]\n",
    "WACC_mu = 0.0855\n",
    "EBIT2024 = 39531\n",
    "Dep_2025 = 16218\n",
    "CapEx_2025 = -60851\n",
    "NWCT2025 = -2819\n",
    "tax = 0.12\n",
    "#CF = [22081,34453,41757,78499]\n",
    "CF2021 = 66303\n",
    "CF2022 = 79580\n",
    "CF2023 = 92858\n",
    "CF2024 = 106135\n",
    "k = 1\n",
    "\n",
    "g_high = high_growth_mu + 1\n",
    "WACC = WACC_mu\n",
    "\n",
    "\n",
    "\n",
    "CF2025 = EBIT2024*g_high + Dep_2025 - CapEx_2025 - NWCT2025\n",
    "\n",
    "for i in g_stable:\n",
    "    Firmvalue1 = (CF2021/(k+WACC) + CF2022/((k+WACC)**2) + CF2023/((k+WACC)**3) + CF2024/((k+WACC)**4) + CF2025/((WACC- i)*(k+WACC)**4))/510 \n",
    "    print(Firmvalue1)\n"
   ]
  },
  {
   "cell_type": "code",
   "execution_count": 25,
   "id": "e6195943",
   "metadata": {},
   "outputs": [
    {
     "name": "stdout",
     "output_type": "stream",
     "text": [
      "2079.280754214004\n",
      "2222.590660457514\n",
      "2395.418570046752\n",
      "2607.9314186920724\n",
      "2976.5132432735063\n",
      "3357.1206900540215\n",
      "3878.9553898143204\n",
      "4638.527993793433\n",
      "5846.226027848718\n",
      "8064.550031824747\n",
      "13474.70713504685\n"
     ]
    }
   ],
   "source": [
    "high_growth_mu = 0.1985\n",
    "g_stable = [-0.0316, -0.0216, -0.0116,  -0.0016, 0.0116, 0.0216, 0.0316, 0.0416, 0.0516, 0.0616, 0.0716]\n",
    "WACC_mu = 0.0855\n",
    "EBIT2024 = 39531\n",
    "Dep_2025 = 16218\n",
    "CapEx_2025 = -60851\n",
    "NWCT2025 = -2819\n",
    "tax = 0.12\n",
    "#CF = [22081,34453,41757,78499]\n",
    "CF2021 = 66303\n",
    "CF2022 = 79580\n",
    "CF2023 = 92858\n",
    "CF2024 = 106135\n",
    "k = 1\n",
    "\n",
    "g_high = high_growth_mu + 1\n",
    "WACC = WACC_mu\n",
    "\n",
    "\n",
    "\n",
    "CF2025 = EBIT2024*g_high + Dep_2025 - CapEx_2025 - NWCT2025\n",
    "\n",
    "for i in g_stable:\n",
    "    Firmvalue1 = (CF2021/(k+WACC) + CF2022/((k+WACC)**2) + CF2023/((k+WACC)**3) + CF2024/((k+WACC)**4) + CF2025/((WACC- i)*(k+WACC)**4))/510 \n",
    "    print(Firmvalue1)\n"
   ]
  },
  {
   "cell_type": "code",
   "execution_count": 26,
   "id": "75c37a6b",
   "metadata": {},
   "outputs": [
    {
     "name": "stdout",
     "output_type": "stream",
     "text": [
      "2084.0482620806147\n",
      "2227.8033137831917\n",
      "2401.168056876619\n",
      "2614.341007339375\n",
      "2984.067711083792\n",
      "3365.8573906984675\n",
      "3889.3129996692387\n",
      "4651.2449680799955\n",
      "5862.694321983824\n",
      "8087.908825597972\n",
      "13514.870816426714\n"
     ]
    }
   ],
   "source": [
    "high_growth_mu = 0.2085\n",
    "g_stable = [-0.0316, -0.0216, -0.0116,  -0.0016, 0.0116, 0.0216, 0.0316, 0.0416, 0.0516, 0.0616, 0.0716]\n",
    "WACC_mu = 0.0855\n",
    "EBIT2024 = 39531\n",
    "Dep_2025 = 16218\n",
    "CapEx_2025 = -60851\n",
    "NWCT2025 = -2819\n",
    "tax = 0.12\n",
    "#CF = [22081,34453,41757,78499]\n",
    "CF2021 = 66303\n",
    "CF2022 = 79580\n",
    "CF2023 = 92858\n",
    "CF2024 = 106135\n",
    "k = 1\n",
    "\n",
    "g_high = high_growth_mu + 1\n",
    "WACC = WACC_mu\n",
    "\n",
    "\n",
    "\n",
    "CF2025 = EBIT2024*g_high + Dep_2025 - CapEx_2025 - NWCT2025\n",
    "\n",
    "for i in g_stable:\n",
    "    Firmvalue1 = (CF2021/(k+WACC) + CF2022/((k+WACC)**2) + CF2023/((k+WACC)**3) + CF2024/((k+WACC)**4) + CF2025/((WACC- i)*(k+WACC)**4))/510 \n",
    "    print(Firmvalue1)\n"
   ]
  },
  {
   "cell_type": "code",
   "execution_count": 27,
   "id": "39f713fb",
   "metadata": {},
   "outputs": [
    {
     "name": "stdout",
     "output_type": "stream",
     "text": [
      "2088.8157699472254\n",
      "2233.01596710887\n",
      "2406.9175437064864\n",
      "2620.750595986679\n",
      "2991.6221788940775\n",
      "3374.5940913429135\n",
      "3899.6706095241575\n",
      "4663.961942366558\n",
      "5879.1626161189315\n",
      "8111.2676193711995\n",
      "13555.034497806579\n"
     ]
    }
   ],
   "source": [
    "high_growth_mu = 0.2185\n",
    "g_stable = [-0.0316, -0.0216, -0.0116,  -0.0016, 0.0116, 0.0216, 0.0316, 0.0416, 0.0516, 0.0616, 0.0716]\n",
    "WACC_mu = 0.0855\n",
    "EBIT2024 = 39531\n",
    "Dep_2025 = 16218\n",
    "CapEx_2025 = -60851\n",
    "NWCT2025 = -2819\n",
    "tax = 0.12\n",
    "#CF = [22081,34453,41757,78499]\n",
    "CF2021 = 66303\n",
    "CF2022 = 79580\n",
    "CF2023 = 92858\n",
    "CF2024 = 106135\n",
    "k = 1\n",
    "\n",
    "g_high = high_growth_mu + 1\n",
    "WACC = WACC_mu\n",
    "\n",
    "\n",
    "\n",
    "CF2025 = EBIT2024*g_high + Dep_2025 - CapEx_2025 - NWCT2025\n",
    "\n",
    "for i in g_stable:\n",
    "    Firmvalue1 = (CF2021/(k+WACC) + CF2022/((k+WACC)**2) + CF2023/((k+WACC)**3) + CF2024/((k+WACC)**4) + CF2025/((WACC- i)*(k+WACC)**4))/510 \n",
    "    print(Firmvalue1)\n"
   ]
  },
  {
   "cell_type": "code",
   "execution_count": 1,
   "id": "8d0d43a9",
   "metadata": {},
   "outputs": [
    {
     "name": "stdout",
     "output_type": "stream",
     "text": [
      "81.435\n",
      "46.78210795806448\n",
      "15.792499999999997\n",
      "3.734718028178299\n",
      "11.33\n",
      "4.846385250885448\n"
     ]
    }
   ],
   "source": [
    "import numpy as np\n",
    "import math\n",
    "Reinvestment = (107.84, 41.37, 31.88, 144.65)\n",
    "ROC = (16.55, 16.83, 20.02, 9.77)\n",
    "g = (17.85, 6.96, 6.38, 14.13)\n",
    "a1 = np.mean(Reinvestment)\n",
    "a2 = np.std(Reinvestment)\n",
    "b1 = np.mean(ROC)\n",
    "b2 = np.std(ROC)\n",
    "c1 = np.mean(g)\n",
    "c2 = np.std(g)\n",
    "print(a1)\n",
    "print(a2)\n",
    "print(b1)\n",
    "print(b2)\n",
    "print(c1)\n",
    "print(c2)"
   ]
  }
 ],
 "metadata": {
  "kernelspec": {
   "display_name": "Python 3",
   "language": "python",
   "name": "python3"
  },
  "language_info": {
   "codemirror_mode": {
    "name": "ipython",
    "version": 3
   },
   "file_extension": ".py",
   "mimetype": "text/x-python",
   "name": "python",
   "nbconvert_exporter": "python",
   "pygments_lexer": "ipython3",
   "version": "3.8.8"
  }
 },
 "nbformat": 4,
 "nbformat_minor": 5
}
